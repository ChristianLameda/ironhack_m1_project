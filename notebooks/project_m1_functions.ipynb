{
 "cells": [
  {
   "cell_type": "markdown",
   "id": "8df36ee8",
   "metadata": {},
   "source": [
    "### Imports"
   ]
  },
  {
   "cell_type": "code",
   "execution_count": 29,
   "id": "5677775a",
   "metadata": {},
   "outputs": [],
   "source": [
    "import pandas as pd\n",
    "import numpy as np\n",
    "import duckdb\n",
    "import requests\n",
    "from shapely.geometry import Point\n",
    "import geopandas as gpd"
   ]
  },
  {
   "cell_type": "markdown",
   "id": "11e0fee3",
   "metadata": {},
   "source": [
    "### Databases:"
   ]
  },
  {
   "cell_type": "code",
   "execution_count": 2,
   "id": "29244720",
   "metadata": {},
   "outputs": [],
   "source": [
    "# BiciMAD Database:\n",
    "\n",
    "db1 = '../data/bicimad.db'\n",
    "\n",
    "# Places of Interest Database;\n",
    "\n",
    "db2 = 'https://datos.madrid.es/egob/catalogo/209426-0-templos-catolicas.json'"
   ]
  },
  {
   "cell_type": "markdown",
   "id": "6611fe46",
   "metadata": {},
   "source": [
    "### Acquisition Function:"
   ]
  },
  {
   "cell_type": "code",
   "execution_count": 3,
   "id": "4fb01f0e",
   "metadata": {},
   "outputs": [],
   "source": [
    "def acquisition(database1, database2):\n",
    "    db_connect = duckdb.connect(database1)\n",
    "    bicimad_df1 = duckdb.query('SELECT name AS \"BiciMAD Station\", address AS \"Station Location\", \\\n",
    "        \"geometry.coordinates\" AS \"Coordinates\" FROM main.bicimad_stations', connection=db_connect).df()\n",
    "    \n",
    "    response = requests.get(database2)\n",
    "    json_data = response.json()\n",
    "    places_df1 = pd.json_normalize(json_data['@graph'])\n",
    "    \n",
    "    return bicimad_df1, places_df1"
   ]
  },
  {
   "cell_type": "code",
   "execution_count": 4,
   "id": "7f346f33",
   "metadata": {},
   "outputs": [],
   "source": [
    "bicimad_df1, places_df1 = acquisition(db1, db2)"
   ]
  },
  {
   "cell_type": "markdown",
   "id": "2c0a7376",
   "metadata": {},
   "source": [
    "### Wrangling Functions:"
   ]
  },
  {
   "cell_type": "code",
   "execution_count": 5,
   "id": "857874f8",
   "metadata": {},
   "outputs": [],
   "source": [
    "# BiciMAD Wrangling Function:\n",
    "\n",
    "def wrangling_bicimad(df):\n",
    "    df[['Longitude', 'Latitude']] = df['Coordinates'].str.strip('[]').str.split(pat = ',',\\\n",
    "                                                    expand = True, regex=False).apply(pd.to_numeric)\n",
    "    df = df.drop('Coordinates', axis=1).reindex(columns=['BiciMAD Station','Station Location','Latitude','Longitude'])\n",
    "    return df"
   ]
  },
  {
   "cell_type": "code",
   "execution_count": 6,
   "id": "b9af79aa",
   "metadata": {},
   "outputs": [],
   "source": [
    "bicimad_df = wrangling_bicimad(bicimad_df1)"
   ]
  },
  {
   "cell_type": "code",
   "execution_count": 7,
   "id": "66ad1926",
   "metadata": {},
   "outputs": [],
   "source": [
    "# Places Wrangling Function:\n",
    "\n",
    "def wrangling_places(df):\n",
    "    df = df[['title','@type','address.street-address','location.latitude','location.longitude']]\n",
    "    df = df.rename(columns={'title': 'Place of Interest','@type':'Type of Place',\\\n",
    "                                        'address.street-address':'Place Address',\\\n",
    "                                       'location.latitude':'Latitude','location.longitude':'Longitude'})\n",
    "    df['Type of Place'] = df['Type of Place'].str.extract('/entidadesYorganismos/(\\w+)')\n",
    "    df['Type of Place'] = df['Type of Place'].str.findall('[A-Z][^A-Z]*').str.join(' ')\n",
    "    df['Place Address'] = df['Place Address'].str.title()\n",
    "    df=df.loc[df['Type of Place'] == \"Templos Iglesias Catolicas\"]\n",
    "\n",
    "    return df"
   ]
  },
  {
   "cell_type": "code",
   "execution_count": 8,
   "id": "9d6bd0c7",
   "metadata": {},
   "outputs": [],
   "source": [
    "places_df = wrangling_places(places_df1)"
   ]
  },
  {
   "cell_type": "markdown",
   "id": "44e6f91e",
   "metadata": {},
   "source": [
    "### Analysis Functions:"
   ]
  },
  {
   "cell_type": "code",
   "execution_count": 9,
   "id": "ecdf0178",
   "metadata": {},
   "outputs": [],
   "source": [
    "# Function to combine both Dataframes using .merge\n",
    "def combine_df(df1, df2):\n",
    "    combined_df = df2.merge(df1, how='cross')\n",
    "    return combined_df"
   ]
  },
  {
   "cell_type": "code",
   "execution_count": 10,
   "id": "79f272f0",
   "metadata": {},
   "outputs": [],
   "source": [
    "combined_df = combine_df(places_df, bicimad_df)"
   ]
  },
  {
   "cell_type": "code",
   "execution_count": 11,
   "id": "630fd5bb",
   "metadata": {},
   "outputs": [],
   "source": [
    "# transform latitude/longitude data in degrees to pseudo-mercator coordinates in metres\n",
    "def to_mercator(lat, long):\n",
    "    c = gpd.GeoSeries([Point(lat, long)], crs=4326)\n",
    "    c = c.to_crs(3857)\n",
    "    return c\n",
    "\n",
    "# Function to return the distance in metres between to latitude/longitude pair point in degrees\n",
    "def distance_meters(lat_start, long_start, lat_finish, long_finish):\n",
    "    start = to_mercator(lat_start, long_start)\n",
    "    finish = to_mercator(lat_finish, long_finish)\n",
    "    return start.distance(finish)"
   ]
  },
  {
   "cell_type": "code",
   "execution_count": 54,
   "id": "f3c4f026",
   "metadata": {},
   "outputs": [],
   "source": [
    "# Function to get the distance from two points and add it in a new column\n",
    "\n",
    "def distance_df(combined_df):\n",
    "    lat_x = np.array(combined_df['Latitude_x'])\n",
    "    lon_x = np.array(combined_df['Longitude_x'])\n",
    "    lat_y = np.array(combined_df['Latitude_y'])\n",
    "    lon_y = np.array(combined_df['Longitude_y'])\n",
    "\n",
    "    # Aplica la función \"distance_meters\" a los arrays NumPy de coordenadas\n",
    "    dist = np.vectorize(distance_meters)(lat_x, lon_x, lat_y, lon_y)\n",
    "    \n",
    "    # Asigna el resultado a la columna \"Distance\" de tu DataFrame\n",
    "    combined_df['Distance'] = dist\n",
    "    \n",
    "    return combined_df"
   ]
  },
  {
   "cell_type": "code",
   "execution_count": 56,
   "id": "2f08c5c4",
   "metadata": {},
   "outputs": [
    {
     "name": "stdout",
     "output_type": "stream",
     "text": [
      "CPU times: user 16min 17s, sys: 52.8 s, total: 17min 10s\n",
      "Wall time: 17min 17s\n"
     ]
    }
   ],
   "source": [
    "%%time\n",
    "\n",
    "df_distance = distance_df(combined_df)"
   ]
  },
  {
   "cell_type": "code",
   "execution_count": 25,
   "id": "d4746f44",
   "metadata": {},
   "outputs": [],
   "source": [
    "# Function to filter the dataframe with the distances\n",
    "def final_df(df_distance):\n",
    "    final_df = combined_df.loc[combined_df.groupby(\"Place of Interest\")[\"Distance\"].idxmin()]\n",
    "    final_df = final_df.drop(['Latitude_x','Longitude_x','Latitude_y','Longitude_y'], axis=1)\n",
    "    final_df = final_df.reset_index(drop=True)\n",
    "    final_df['Distance'] = final_df['Distance'].round(0)\n",
    "    return final_df"
   ]
  },
  {
   "cell_type": "code",
   "execution_count": 26,
   "id": "45acc530",
   "metadata": {},
   "outputs": [],
   "source": [
    "df_final = final_df(df_distance)"
   ]
  },
  {
   "cell_type": "code",
   "execution_count": 27,
   "id": "04754d08",
   "metadata": {},
   "outputs": [],
   "source": [
    "# Function to create a .csv from the final dataframe\n",
    "def create_csv(df_final):\n",
    "        csv_df = df_final[['Place of Interest', 'Type of Place','Place Address','BiciMAD Station','Station Location']]\n",
    "        csv_df.to_csv('Main Challenge.csv', index=False)\n",
    "        return csv_df"
   ]
  },
  {
   "cell_type": "code",
   "execution_count": 28,
   "id": "5bcbde8c",
   "metadata": {},
   "outputs": [
    {
     "data": {
      "text/html": [
       "<div>\n",
       "<style scoped>\n",
       "    .dataframe tbody tr th:only-of-type {\n",
       "        vertical-align: middle;\n",
       "    }\n",
       "\n",
       "    .dataframe tbody tr th {\n",
       "        vertical-align: top;\n",
       "    }\n",
       "\n",
       "    .dataframe thead th {\n",
       "        text-align: right;\n",
       "    }\n",
       "</style>\n",
       "<table border=\"1\" class=\"dataframe\">\n",
       "  <thead>\n",
       "    <tr style=\"text-align: right;\">\n",
       "      <th></th>\n",
       "      <th>Place of Interest</th>\n",
       "      <th>Type of Place</th>\n",
       "      <th>Place Address</th>\n",
       "      <th>BiciMAD Station</th>\n",
       "      <th>Station Location</th>\n",
       "    </tr>\n",
       "  </thead>\n",
       "  <tbody>\n",
       "    <tr>\n",
       "      <th>0</th>\n",
       "      <td>Basílica Jesús de Medinaceli</td>\n",
       "      <td>Templos Iglesias Catolicas</td>\n",
       "      <td>Plaza Jesus 2</td>\n",
       "      <td>27 - Huertas</td>\n",
       "      <td>Calle Jesús nº 1</td>\n",
       "    </tr>\n",
       "    <tr>\n",
       "      <th>1</th>\n",
       "      <td>Basílica La Milagrosa</td>\n",
       "      <td>Templos Iglesias Catolicas</td>\n",
       "      <td>Calle Garcia De Paredes 45</td>\n",
       "      <td>125 - General Martínez Campos</td>\n",
       "      <td>Calle Fernández de la Hoz nº 29</td>\n",
       "    </tr>\n",
       "    <tr>\n",
       "      <th>2</th>\n",
       "      <td>Capilla Nuestra Señora de la Bien Aparecida</td>\n",
       "      <td>Templos Iglesias Catolicas</td>\n",
       "      <td>Calle Pio Baroja 2</td>\n",
       "      <td>71 - Doce de Octubre</td>\n",
       "      <td>Calle Doce de Octubre nº 28</td>\n",
       "    </tr>\n",
       "    <tr>\n",
       "      <th>3</th>\n",
       "      <td>Capilla de San Ignacio de los Vascos</td>\n",
       "      <td>Templos Iglesias Catolicas</td>\n",
       "      <td>Calle Principe 31</td>\n",
       "      <td>52 - Plaza de Santa Ana</td>\n",
       "      <td>Plaza de Santa Ana nº 10</td>\n",
       "    </tr>\n",
       "    <tr>\n",
       "      <th>4</th>\n",
       "      <td>Capilla de la Virgen de Nuria</td>\n",
       "      <td>Templos Iglesias Catolicas</td>\n",
       "      <td>Calle Juan De Urbieta 5</td>\n",
       "      <td>178 - Junta Municipal Retiro</td>\n",
       "      <td>Calle León Gil de Palacio nº 3</td>\n",
       "    </tr>\n",
       "    <tr>\n",
       "      <th>...</th>\n",
       "      <td>...</td>\n",
       "      <td>...</td>\n",
       "      <td>...</td>\n",
       "      <td>...</td>\n",
       "      <td>...</td>\n",
       "    </tr>\n",
       "    <tr>\n",
       "      <th>352</th>\n",
       "      <td>Santuario Nuestra Señora de Schönstatt</td>\n",
       "      <td>Templos Iglesias Catolicas</td>\n",
       "      <td>Calle Serrano 97</td>\n",
       "      <td>250 - Serrano 113</td>\n",
       "      <td>Calle Serrano nº 113B</td>\n",
       "    </tr>\n",
       "    <tr>\n",
       "      <th>353</th>\n",
       "      <td>Santuario Nuestra Señora de los Peligros</td>\n",
       "      <td>Templos Iglesias Catolicas</td>\n",
       "      <td>Calle Joaquin Costa 49</td>\n",
       "      <td>140 - Velázquez 130</td>\n",
       "      <td>Calle Velázquez nº 130</td>\n",
       "    </tr>\n",
       "    <tr>\n",
       "      <th>354</th>\n",
       "      <td>Segundo Monasterio de la Visitación (Las Salesas)</td>\n",
       "      <td>Templos Iglesias Catolicas</td>\n",
       "      <td>Calle San Bernardo 72</td>\n",
       "      <td>12 - San Hermenegildo</td>\n",
       "      <td>Calle San Bernardo nº 85</td>\n",
       "    </tr>\n",
       "    <tr>\n",
       "      <th>355</th>\n",
       "      <td>Templo Eucarístico de San Martín de Tours</td>\n",
       "      <td>Templos Iglesias Catolicas</td>\n",
       "      <td>Calle Desenga&amp;Amp;Ntilde;O 26</td>\n",
       "      <td>2 - Miguel Moya</td>\n",
       "      <td>Calle Miguel Moya nº 1</td>\n",
       "    </tr>\n",
       "    <tr>\n",
       "      <th>356</th>\n",
       "      <td>Tercer Monasterio de la Visitación (Servidoras...</td>\n",
       "      <td>Templos Iglesias Catolicas</td>\n",
       "      <td>Paseo San Francisco De Sales 48</td>\n",
       "      <td>202 - Parque Santander</td>\n",
       "      <td>Calle Santander esquina con Avenida de Filipinas</td>\n",
       "    </tr>\n",
       "  </tbody>\n",
       "</table>\n",
       "<p>357 rows × 5 columns</p>\n",
       "</div>"
      ],
      "text/plain": [
       "                                     Place of Interest  \\\n",
       "0                         Basílica Jesús de Medinaceli   \n",
       "1                                Basílica La Milagrosa   \n",
       "2          Capilla Nuestra Señora de la Bien Aparecida   \n",
       "3                 Capilla de San Ignacio de los Vascos   \n",
       "4                        Capilla de la Virgen de Nuria   \n",
       "..                                                 ...   \n",
       "352             Santuario Nuestra Señora de Schönstatt   \n",
       "353           Santuario Nuestra Señora de los Peligros   \n",
       "354  Segundo Monasterio de la Visitación (Las Salesas)   \n",
       "355          Templo Eucarístico de San Martín de Tours   \n",
       "356  Tercer Monasterio de la Visitación (Servidoras...   \n",
       "\n",
       "                  Type of Place                    Place Address  \\\n",
       "0    Templos Iglesias Catolicas                    Plaza Jesus 2   \n",
       "1    Templos Iglesias Catolicas       Calle Garcia De Paredes 45   \n",
       "2    Templos Iglesias Catolicas               Calle Pio Baroja 2   \n",
       "3    Templos Iglesias Catolicas                Calle Principe 31   \n",
       "4    Templos Iglesias Catolicas          Calle Juan De Urbieta 5   \n",
       "..                          ...                              ...   \n",
       "352  Templos Iglesias Catolicas                 Calle Serrano 97   \n",
       "353  Templos Iglesias Catolicas           Calle Joaquin Costa 49   \n",
       "354  Templos Iglesias Catolicas            Calle San Bernardo 72   \n",
       "355  Templos Iglesias Catolicas    Calle Desenga&Amp;Ntilde;O 26   \n",
       "356  Templos Iglesias Catolicas  Paseo San Francisco De Sales 48   \n",
       "\n",
       "                    BiciMAD Station  \\\n",
       "0                      27 - Huertas   \n",
       "1    125 - General Martínez Campos    \n",
       "2              71 - Doce de Octubre   \n",
       "3           52 - Plaza de Santa Ana   \n",
       "4      178 - Junta Municipal Retiro   \n",
       "..                              ...   \n",
       "352               250 - Serrano 113   \n",
       "353             140 - Velázquez 130   \n",
       "354           12 - San Hermenegildo   \n",
       "355                 2 - Miguel Moya   \n",
       "356          202 - Parque Santander   \n",
       "\n",
       "                                     Station Location  \n",
       "0                                    Calle Jesús nº 1  \n",
       "1                     Calle Fernández de la Hoz nº 29  \n",
       "2                         Calle Doce de Octubre nº 28  \n",
       "3                            Plaza de Santa Ana nº 10  \n",
       "4                      Calle León Gil de Palacio nº 3  \n",
       "..                                                ...  \n",
       "352                             Calle Serrano nº 113B  \n",
       "353                            Calle Velázquez nº 130  \n",
       "354                          Calle San Bernardo nº 85  \n",
       "355                            Calle Miguel Moya nº 1  \n",
       "356  Calle Santander esquina con Avenida de Filipinas  \n",
       "\n",
       "[357 rows x 5 columns]"
      ]
     },
     "execution_count": 28,
     "metadata": {},
     "output_type": "execute_result"
    }
   ],
   "source": [
    "csv = create_csv(df_final)\n",
    "csv"
   ]
  }
 ],
 "metadata": {
  "kernelspec": {
   "display_name": "Python [conda env:m1_project]",
   "language": "python",
   "name": "conda-env-m1_project-py"
  },
  "language_info": {
   "codemirror_mode": {
    "name": "ipython",
    "version": 3
   },
   "file_extension": ".py",
   "mimetype": "text/x-python",
   "name": "python",
   "nbconvert_exporter": "python",
   "pygments_lexer": "ipython3",
   "version": "3.11.3"
  }
 },
 "nbformat": 4,
 "nbformat_minor": 5
}
